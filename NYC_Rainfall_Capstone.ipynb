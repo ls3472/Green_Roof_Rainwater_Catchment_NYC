{
 "cells": [
  {
   "cell_type": "markdown",
   "metadata": {},
   "source": [
    "# Inputs! Change the parameters below and re-run the program to see how the outputs change\n",
    "## <u>Roof and Rainfall:</u>\n",
    "### Fill in green roof area (square feet), green roof capacity (inches), and rainwater harvest efficiency (as a proportion)\n",
    "Here, green roof area is the approximate square footage of the green roof to be installed\n",
    "\n",
    "Green roof capacity is the amount of rainfall (in inches) that the green roof is estimated to be able to absorb. A good rule of thumb is that a 3-4\" green roof can absorb about 1 inch of rainfall \n",
    "\n",
    "*If you would like to analyze rainwater capture capacity without any green roof, set the green roof capacity equal to zero*\n",
    "\n",
    "Rainwater harvest efficiency is the estimated proportion (between 0 and 1) of rainfall that will make it from the roof into a rainwater catchment tank. Here, an efficiency of 0 indicates that none of the rainfall will make it to the tank whereas an efficiency of 1 indicates that 100% of the rainfall will make it to a tank. If unsure, leave it at 0.5 for a conservative estimate"
   ]
  },
  {
   "cell_type": "code",
   "execution_count": 1,
   "metadata": {},
   "outputs": [],
   "source": [
    "# Change the green numbers here to customize!\n",
    "green_roof_area=7500 #in square feet\n",
    "green_roof_capacity=1 #in inches\n",
    "rainwater_harvest_efficiency=.5 #proportion/decimal between 0 and 1"
   ]
  },
  {
   "cell_type": "markdown",
   "metadata": {},
   "source": [
    "## <u>Frost Dates:</u>\n",
    "### 1. Enter the first frost date as  \"MM,dd\"\n",
    "### 2. Enter the last frost date as \"MM, dd\"\n",
    "For example, if the first frost is on October 17th and the last frost is April 21:\n",
    "1. first_frost_MM, first_frost_dd = (10,17)\n",
    "2. last_frost_MM, last_frost_dd = (4,21) "
   ]
  },
  {
   "cell_type": "code",
   "execution_count": 2,
   "metadata": {},
   "outputs": [],
   "source": [
    "first_frost_MM, first_frost_dd = (10,17) # Oct 17\n",
    "last_frost_MM, last_frost_dd = (4,21) # April 21"
   ]
  },
  {
   "cell_type": "code",
   "execution_count": 3,
   "metadata": {},
   "outputs": [],
   "source": [
    "%matplotlib inline\n",
    "import pandas as pd\n",
    "import numpy as np\n",
    "import matplotlib.pylab as plt\n",
    "from scipy import stats\n",
    "from matplotlib.backends.backend_pdf import PdfPages"
   ]
  },
  {
   "cell_type": "code",
   "execution_count": 4,
   "metadata": {},
   "outputs": [],
   "source": [
    "df=pd.read_csv('NYC_Rainfall_Data.csv',parse_dates=[2],index_col=2)"
   ]
  },
  {
   "cell_type": "code",
   "execution_count": 5,
   "metadata": {},
   "outputs": [
    {
     "name": "stdout",
     "output_type": "stream",
     "text": [
      "<class 'pandas.core.frame.DataFrame'>\n",
      "DatetimeIndex: 7702 entries, 2000-01-01 to 2021-01-31\n",
      "Data columns (total 5 columns):\n",
      " #   Column   Non-Null Count  Dtype  \n",
      "---  ------   --------------  -----  \n",
      " 0   STATION  7702 non-null   object \n",
      " 1   NAME     7702 non-null   object \n",
      " 2   PRCP     7702 non-null   float64\n",
      " 3   SNOW     7700 non-null   float64\n",
      " 4   SNWD     7594 non-null   float64\n",
      "dtypes: float64(3), object(2)\n",
      "memory usage: 361.0+ KB\n"
     ]
    }
   ],
   "source": [
    "df.info()"
   ]
  },
  {
   "cell_type": "markdown",
   "metadata": {},
   "source": [
    "# How much is the green roof absorbing per year on average?"
   ]
  },
  {
   "cell_type": "code",
   "execution_count": 6,
   "metadata": {},
   "outputs": [
    {
     "data": {
      "text/html": [
       "<div>\n",
       "<style scoped>\n",
       "    .dataframe tbody tr th:only-of-type {\n",
       "        vertical-align: middle;\n",
       "    }\n",
       "\n",
       "    .dataframe tbody tr th {\n",
       "        vertical-align: top;\n",
       "    }\n",
       "\n",
       "    .dataframe thead th {\n",
       "        text-align: right;\n",
       "    }\n",
       "</style>\n",
       "<table border=\"1\" class=\"dataframe\">\n",
       "  <thead>\n",
       "    <tr style=\"text-align: right;\">\n",
       "      <th></th>\n",
       "      <th>CAPTURE_inches</th>\n",
       "      <th>GAL</th>\n",
       "    </tr>\n",
       "    <tr>\n",
       "      <th>DATE</th>\n",
       "      <th></th>\n",
       "      <th></th>\n",
       "    </tr>\n",
       "  </thead>\n",
       "  <tbody>\n",
       "    <tr>\n",
       "      <th>2000</th>\n",
       "      <td>38.67</td>\n",
       "      <td>180685.575</td>\n",
       "    </tr>\n",
       "    <tr>\n",
       "      <th>2001</th>\n",
       "      <td>31.68</td>\n",
       "      <td>148024.800</td>\n",
       "    </tr>\n",
       "    <tr>\n",
       "      <th>2002</th>\n",
       "      <td>37.31</td>\n",
       "      <td>174330.975</td>\n",
       "    </tr>\n",
       "    <tr>\n",
       "      <th>2003</th>\n",
       "      <td>49.21</td>\n",
       "      <td>229933.725</td>\n",
       "    </tr>\n",
       "    <tr>\n",
       "      <th>2004</th>\n",
       "      <td>41.35</td>\n",
       "      <td>193207.875</td>\n",
       "    </tr>\n",
       "    <tr>\n",
       "      <th>2005</th>\n",
       "      <td>40.21</td>\n",
       "      <td>187881.225</td>\n",
       "    </tr>\n",
       "    <tr>\n",
       "      <th>2006</th>\n",
       "      <td>46.06</td>\n",
       "      <td>215215.350</td>\n",
       "    </tr>\n",
       "    <tr>\n",
       "      <th>2007</th>\n",
       "      <td>42.81</td>\n",
       "      <td>200029.725</td>\n",
       "    </tr>\n",
       "    <tr>\n",
       "      <th>2008</th>\n",
       "      <td>42.85</td>\n",
       "      <td>200216.625</td>\n",
       "    </tr>\n",
       "    <tr>\n",
       "      <th>2009</th>\n",
       "      <td>47.08</td>\n",
       "      <td>219981.300</td>\n",
       "    </tr>\n",
       "    <tr>\n",
       "      <th>2010</th>\n",
       "      <td>37.69</td>\n",
       "      <td>176106.525</td>\n",
       "    </tr>\n",
       "    <tr>\n",
       "      <th>2011</th>\n",
       "      <td>51.17</td>\n",
       "      <td>239091.825</td>\n",
       "    </tr>\n",
       "    <tr>\n",
       "      <th>2012</th>\n",
       "      <td>33.88</td>\n",
       "      <td>158304.300</td>\n",
       "    </tr>\n",
       "    <tr>\n",
       "      <th>2013</th>\n",
       "      <td>37.11</td>\n",
       "      <td>173396.475</td>\n",
       "    </tr>\n",
       "    <tr>\n",
       "      <th>2014</th>\n",
       "      <td>41.79</td>\n",
       "      <td>195263.775</td>\n",
       "    </tr>\n",
       "    <tr>\n",
       "      <th>2015</th>\n",
       "      <td>35.45</td>\n",
       "      <td>165640.125</td>\n",
       "    </tr>\n",
       "    <tr>\n",
       "      <th>2016</th>\n",
       "      <td>36.48</td>\n",
       "      <td>170452.800</td>\n",
       "    </tr>\n",
       "    <tr>\n",
       "      <th>2017</th>\n",
       "      <td>36.41</td>\n",
       "      <td>170125.725</td>\n",
       "    </tr>\n",
       "    <tr>\n",
       "      <th>2018</th>\n",
       "      <td>55.81</td>\n",
       "      <td>260772.225</td>\n",
       "    </tr>\n",
       "    <tr>\n",
       "      <th>2019</th>\n",
       "      <td>48.43</td>\n",
       "      <td>226289.175</td>\n",
       "    </tr>\n",
       "    <tr>\n",
       "      <th>2020</th>\n",
       "      <td>40.30</td>\n",
       "      <td>188301.750</td>\n",
       "    </tr>\n",
       "  </tbody>\n",
       "</table>\n",
       "</div>"
      ],
      "text/plain": [
       "      CAPTURE_inches         GAL\n",
       "DATE                            \n",
       "2000           38.67  180685.575\n",
       "2001           31.68  148024.800\n",
       "2002           37.31  174330.975\n",
       "2003           49.21  229933.725\n",
       "2004           41.35  193207.875\n",
       "2005           40.21  187881.225\n",
       "2006           46.06  215215.350\n",
       "2007           42.81  200029.725\n",
       "2008           42.85  200216.625\n",
       "2009           47.08  219981.300\n",
       "2010           37.69  176106.525\n",
       "2011           51.17  239091.825\n",
       "2012           33.88  158304.300\n",
       "2013           37.11  173396.475\n",
       "2014           41.79  195263.775\n",
       "2015           35.45  165640.125\n",
       "2016           36.48  170452.800\n",
       "2017           36.41  170125.725\n",
       "2018           55.81  260772.225\n",
       "2019           48.43  226289.175\n",
       "2020           40.30  188301.750"
      ]
     },
     "execution_count": 6,
     "metadata": {},
     "output_type": "execute_result"
    }
   ],
   "source": [
    "grnrf=df.copy()\n",
    "capture=[]\n",
    "for a in grnrf['PRCP']:\n",
    "    if a<=green_roof_capacity:\n",
    "        capture.append(a)\n",
    "    elif a>green_roof_capacity:\n",
    "        capture.append(green_roof_capacity)\n",
    "grnrf['CAPTURE_inches']=capture\n",
    "grnrf_annual=grnrf.groupby(by=grnrf.index.year).sum()\n",
    "green_roof_gallons=[]\n",
    "for b in grnrf_annual['CAPTURE_inches']:\n",
    "    green_roof_gallons.append(b*green_roof_area*.623)\n",
    "grnrf_annual['GAL']=green_roof_gallons\n",
    "grnrf_annual_current=grnrf_annual[grnrf_annual.index<2021]\n",
    "grnrf_annual_current.iloc[:,3:]"
   ]
  },
  {
   "cell_type": "markdown",
   "metadata": {},
   "source": [
    "Now, visualized"
   ]
  },
  {
   "cell_type": "code",
   "execution_count": 7,
   "metadata": {},
   "outputs": [
    {
     "name": "stdout",
     "output_type": "stream",
     "text": [
      "Average amount of rainfall captured = 193964.38 gallons per year\n"
     ]
    },
    {
     "data": {
      "text/plain": [
       "<matplotlib.legend.Legend at 0x7fe1ce520d00>"
      ]
     },
     "execution_count": 7,
     "metadata": {},
     "output_type": "execute_result"
    },
    {
     "data": {
      "image/png": "[encoded data removed]",
      "text/plain": [
       "<Figure size 648x432 with 1 Axes>"
      ]
     },
     "metadata": {
      "needs_background": "light"
     },
     "output_type": "display_data"
    }
   ],
   "source": [
    "grnrf_avg=grnrf_annual_current.GAL.mean()\n",
    "print ('Average amount of rainfall captured = {:.2f} gallons per year'.format(grnrf_avg))\n",
    "fig,ax=plt.subplots()\n",
    "fig.set_size_inches(9,6)\n",
    "ax.bar(grnrf_annual_current.index,grnrf_annual_current.GAL)\n",
    "ax.set_ylabel('Gallons of Rainfall',fontsize=13)\n",
    "ax.set_xlabel('Year',fontsize=13)\n",
    "ax.set_title('Annual Green Roof Rainwater Absorption Assuming:\\n{} ft$^2$ & {} in. Absorptive Capacity'\\\n",
    "             .format(green_roof_area,green_roof_capacity),fontsize=14)\n",
    "ax.axhline(y=grnrf_avg,color='g',linestyle='--',linewidth=1.5,label='Average = {:.2f} gallons/year'.format(grnrf_avg))\n",
    "ax.legend(loc='best',fontsize=10,frameon=False)\n",
    "fig.savefig('Green_Roof_Rainwater_Capture_Yield.pdf')"
   ]
  },
  {
   "cell_type": "markdown",
   "metadata": {},
   "source": [
    "## Beyond a Green Roof\n",
    "### Here we are trimming the data to look at the rainfall amounts left over that the green roof cannot account for"
   ]
  },
  {
   "cell_type": "code",
   "execution_count": 8,
   "metadata": {},
   "outputs": [
    {
     "name": "stdout",
     "output_type": "stream",
     "text": [
      "                STATION                         NAME  PRCP  SNOW  SNWD  \\\n",
      "DATE                                                                     \n",
      "2000-01-01  USW00094728  NY CITY CENTRAL PARK, NY US  0.00   0.0   0.0   \n",
      "2000-01-02  USW00094728  NY CITY CENTRAL PARK, NY US  0.00   0.0   0.0   \n",
      "2000-01-03  USW00094728  NY CITY CENTRAL PARK, NY US  0.00   0.0   0.0   \n",
      "2000-01-04  USW00094728  NY CITY CENTRAL PARK, NY US  0.70   0.0   0.0   \n",
      "2000-01-05  USW00094728  NY CITY CENTRAL PARK, NY US  0.00   0.0   0.0   \n",
      "...                 ...                          ...   ...   ...   ...   \n",
      "2021-01-27  USW00094728  NY CITY CENTRAL PARK, NY US  0.00   0.0   0.0   \n",
      "2021-01-28  USW00094728  NY CITY CENTRAL PARK, NY US  0.00   0.0   0.0   \n",
      "2021-01-29  USW00094728  NY CITY CENTRAL PARK, NY US  0.00   0.0   0.0   \n",
      "2021-01-30  USW00094728  NY CITY CENTRAL PARK, NY US  0.00   0.0   0.0   \n",
      "2021-01-31  USW00094728  NY CITY CENTRAL PARK, NY US  0.12   2.0   0.0   \n",
      "\n",
      "            NET_PRCP_in  \n",
      "DATE                     \n",
      "2000-01-01          NaN  \n",
      "2000-01-02          NaN  \n",
      "2000-01-03          NaN  \n",
      "2000-01-04          NaN  \n",
      "2000-01-05          NaN  \n",
      "...                 ...  \n",
      "2021-01-27          NaN  \n",
      "2021-01-28          NaN  \n",
      "2021-01-29          NaN  \n",
      "2021-01-30          NaN  \n",
      "2021-01-31          NaN  \n",
      "\n",
      "[7702 rows x 6 columns]\n"
     ]
    }
   ],
   "source": [
    "df['NET_PRCP_in'] = df['PRCP'] - green_roof_capacity\n",
    "df.loc[df.NET_PRCP_in <= 0, 'NET_PRCP_in'] = np.nan\n",
    "print(df)"
   ]
  },
  {
   "cell_type": "markdown",
   "metadata": {},
   "source": [
    "# Number of Rainy Days Unaccounted for"
   ]
  },
  {
   "cell_type": "code",
   "execution_count": 9,
   "metadata": {},
   "outputs": [
    {
     "name": "stdout",
     "output_type": "stream",
     "text": [
      "DATE\n",
      "2000    10\n",
      "2001     8\n",
      "2002    13\n",
      "2003    17\n",
      "2004    13\n",
      "2005    15\n",
      "2006    19\n",
      "2007    23\n",
      "2008    13\n",
      "2009    15\n",
      "2010    22\n",
      "2011    24\n",
      "2012     8\n",
      "2013    11\n",
      "2014    17\n",
      "2015    14\n",
      "2016    11\n",
      "2017    13\n",
      "2018    18\n",
      "2019    12\n",
      "2020    10\n",
      "2021     0\n",
      "Name: NET_PRCP_in, dtype: int64\n"
     ]
    }
   ],
   "source": [
    "raindays = df.groupby(df.index.year)['NET_PRCP_in'].count()  # Group by year and count entries\n",
    "print(raindays)"
   ]
  },
  {
   "cell_type": "code",
   "execution_count": 10,
   "metadata": {},
   "outputs": [
    {
     "data": {
      "text/plain": [
       "<matplotlib.legend.Legend at 0x7fe1ce871b50>"
      ]
     },
     "execution_count": 10,
     "metadata": {},
     "output_type": "execute_result"
    },
    {
     "data": {
      "image/png": "[encoded data removed]",
      "text/plain": [
       "<Figure size 648x432 with 1 Axes>"
      ]
     },
     "metadata": {
      "needs_background": "light"
     },
     "output_type": "display_data"
    }
   ],
   "source": [
    "avvg=raindays.mean()\n",
    "fig,ax=plt.subplots()\n",
    "fig.set_size_inches(9,6)\n",
    "ax.bar(raindays.index,raindays)\n",
    "ax.set_ylabel('Days with Rainfall $\\geq$ 1 inch',fontsize=13)\n",
    "ax.set_xlabel('Year',fontsize=13)\n",
    "ax.set_title('Annual Days of Rainfall Exceeding Green Roof Capacity',fontsize=14)\n",
    "ax.axhline(y=avvg,color='g',linestyle='--',linewidth=1.5,label='Average = {:.0f} days/year'.format(avvg))\n",
    "ax.legend(loc=0,fontsize=10,frameon=False)\n",
    "fig.savefig('Unaccounted_Days.pdf')"
   ]
  },
  {
   "cell_type": "markdown",
   "metadata": {},
   "source": [
    "# Accounting for Frost Dates\n",
    "### Rainwater catchment systems are emptied during the frost period to prevent pipes from freezing and cracking"
   ]
  },
  {
   "cell_type": "code",
   "execution_count": 11,
   "metadata": {},
   "outputs": [],
   "source": [
    "month_day = pd.concat([\n",
    "                df.index.to_series().dt.month, \n",
    "                df.index.to_series().dt.day\n",
    "            ], axis=1).apply(tuple, axis=1)\n",
    "nofrost=df[(month_day > (last_frost_MM, last_frost_dd)) & (month_day < (first_frost_MM, first_frost_dd))]"
   ]
  },
  {
   "cell_type": "code",
   "execution_count": 12,
   "metadata": {},
   "outputs": [],
   "source": [
    "#how much rainfall would be missed every year assuming all rainfall <1 inch was captured\n",
    "missedrain=nofrost.groupby(by=nofrost.index.year).sum()\n",
    "missedrainmonth=nofrost.groupby(by=nofrost.index.month).mean()"
   ]
  },
  {
   "cell_type": "code",
   "execution_count": 13,
   "metadata": {},
   "outputs": [
    {
     "data": {
      "text/html": [
       "<div>\n",
       "<style scoped>\n",
       "    .dataframe tbody tr th:only-of-type {\n",
       "        vertical-align: middle;\n",
       "    }\n",
       "\n",
       "    .dataframe tbody tr th {\n",
       "        vertical-align: top;\n",
       "    }\n",
       "\n",
       "    .dataframe thead th {\n",
       "        text-align: right;\n",
       "    }\n",
       "</style>\n",
       "<table border=\"1\" class=\"dataframe\">\n",
       "  <thead>\n",
       "    <tr style=\"text-align: right;\">\n",
       "      <th></th>\n",
       "      <th>PRCP</th>\n",
       "      <th>SNOW</th>\n",
       "      <th>SNWD</th>\n",
       "      <th>NET_PRCP_in</th>\n",
       "    </tr>\n",
       "    <tr>\n",
       "      <th>DATE</th>\n",
       "      <th></th>\n",
       "      <th></th>\n",
       "      <th></th>\n",
       "      <th></th>\n",
       "    </tr>\n",
       "  </thead>\n",
       "  <tbody>\n",
       "    <tr>\n",
       "      <th>4</th>\n",
       "      <td>0.178307</td>\n",
       "      <td>0.0</td>\n",
       "      <td>0.0</td>\n",
       "      <td>0.977000</td>\n",
       "    </tr>\n",
       "    <tr>\n",
       "      <th>5</th>\n",
       "      <td>0.132719</td>\n",
       "      <td>0.0</td>\n",
       "      <td>0.0</td>\n",
       "      <td>0.515417</td>\n",
       "    </tr>\n",
       "    <tr>\n",
       "      <th>6</th>\n",
       "      <td>0.168635</td>\n",
       "      <td>0.0</td>\n",
       "      <td>0.0</td>\n",
       "      <td>0.748519</td>\n",
       "    </tr>\n",
       "    <tr>\n",
       "      <th>7</th>\n",
       "      <td>0.156052</td>\n",
       "      <td>0.0</td>\n",
       "      <td>0.0</td>\n",
       "      <td>0.591212</td>\n",
       "    </tr>\n",
       "    <tr>\n",
       "      <th>8</th>\n",
       "      <td>0.158618</td>\n",
       "      <td>0.0</td>\n",
       "      <td>0.0</td>\n",
       "      <td>1.028750</td>\n",
       "    </tr>\n",
       "    <tr>\n",
       "      <th>9</th>\n",
       "      <td>0.142651</td>\n",
       "      <td>0.0</td>\n",
       "      <td>0.0</td>\n",
       "      <td>0.765667</td>\n",
       "    </tr>\n",
       "    <tr>\n",
       "      <th>10</th>\n",
       "      <td>0.154643</td>\n",
       "      <td>0.0</td>\n",
       "      <td>0.0</td>\n",
       "      <td>0.920588</td>\n",
       "    </tr>\n",
       "  </tbody>\n",
       "</table>\n",
       "</div>"
      ],
      "text/plain": [
       "          PRCP  SNOW  SNWD  NET_PRCP_in\n",
       "DATE                                   \n",
       "4     0.178307   0.0   0.0     0.977000\n",
       "5     0.132719   0.0   0.0     0.515417\n",
       "6     0.168635   0.0   0.0     0.748519\n",
       "7     0.156052   0.0   0.0     0.591212\n",
       "8     0.158618   0.0   0.0     1.028750\n",
       "9     0.142651   0.0   0.0     0.765667\n",
       "10    0.154643   0.0   0.0     0.920588"
      ]
     },
     "execution_count": 13,
     "metadata": {},
     "output_type": "execute_result"
    }
   ],
   "source": [
    "missedrainmonth #average rainfall event size per month"
   ]
  },
  {
   "cell_type": "markdown",
   "metadata": {},
   "source": [
    "^ Seems like pretty consistent rainfall with the heaviest months being April and August"
   ]
  },
  {
   "cell_type": "markdown",
   "metadata": {},
   "source": [
    "# Annual Rainwater Capture Capacity"
   ]
  },
  {
   "cell_type": "code",
   "execution_count": 14,
   "metadata": {},
   "outputs": [
    {
     "data": {
      "text/html": [
       "<div>\n",
       "<style scoped>\n",
       "    .dataframe tbody tr th:only-of-type {\n",
       "        vertical-align: middle;\n",
       "    }\n",
       "\n",
       "    .dataframe tbody tr th {\n",
       "        vertical-align: top;\n",
       "    }\n",
       "\n",
       "    .dataframe thead th {\n",
       "        text-align: right;\n",
       "    }\n",
       "</style>\n",
       "<table border=\"1\" class=\"dataframe\">\n",
       "  <thead>\n",
       "    <tr style=\"text-align: right;\">\n",
       "      <th></th>\n",
       "      <th>PRCP</th>\n",
       "      <th>SNOW</th>\n",
       "      <th>SNWD</th>\n",
       "      <th>NET_PRCP_in</th>\n",
       "      <th>GAL</th>\n",
       "    </tr>\n",
       "    <tr>\n",
       "      <th>DATE</th>\n",
       "      <th></th>\n",
       "      <th></th>\n",
       "      <th></th>\n",
       "      <th></th>\n",
       "      <th></th>\n",
       "    </tr>\n",
       "  </thead>\n",
       "  <tbody>\n",
       "    <tr>\n",
       "      <th>2000</th>\n",
       "      <td>26.69</td>\n",
       "      <td>0.0</td>\n",
       "      <td>0.0</td>\n",
       "      <td>5.35</td>\n",
       "      <td>12498.9375</td>\n",
       "    </tr>\n",
       "    <tr>\n",
       "      <th>2001</th>\n",
       "      <td>17.88</td>\n",
       "      <td>0.0</td>\n",
       "      <td>0.0</td>\n",
       "      <td>2.23</td>\n",
       "      <td>5209.8375</td>\n",
       "    </tr>\n",
       "    <tr>\n",
       "      <th>2002</th>\n",
       "      <td>28.00</td>\n",
       "      <td>0.0</td>\n",
       "      <td>0.0</td>\n",
       "      <td>7.06</td>\n",
       "      <td>16493.9250</td>\n",
       "    </tr>\n",
       "    <tr>\n",
       "      <th>2003</th>\n",
       "      <td>31.08</td>\n",
       "      <td>0.0</td>\n",
       "      <td>0.0</td>\n",
       "      <td>4.31</td>\n",
       "      <td>10069.2375</td>\n",
       "    </tr>\n",
       "    <tr>\n",
       "      <th>2004</th>\n",
       "      <td>32.91</td>\n",
       "      <td>0.0</td>\n",
       "      <td>0.0</td>\n",
       "      <td>9.64</td>\n",
       "      <td>22521.4500</td>\n",
       "    </tr>\n",
       "    <tr>\n",
       "      <th>2005</th>\n",
       "      <td>27.99</td>\n",
       "      <td>0.0</td>\n",
       "      <td>0.0</td>\n",
       "      <td>11.89</td>\n",
       "      <td>27778.0125</td>\n",
       "    </tr>\n",
       "    <tr>\n",
       "      <th>2006</th>\n",
       "      <td>35.87</td>\n",
       "      <td>0.0</td>\n",
       "      <td>0.0</td>\n",
       "      <td>8.24</td>\n",
       "      <td>19250.7000</td>\n",
       "    </tr>\n",
       "    <tr>\n",
       "      <th>2007</th>\n",
       "      <td>28.76</td>\n",
       "      <td>0.0</td>\n",
       "      <td>0.0</td>\n",
       "      <td>8.23</td>\n",
       "      <td>19227.3375</td>\n",
       "    </tr>\n",
       "    <tr>\n",
       "      <th>2008</th>\n",
       "      <td>26.12</td>\n",
       "      <td>0.0</td>\n",
       "      <td>0.0</td>\n",
       "      <td>6.42</td>\n",
       "      <td>14998.7250</td>\n",
       "    </tr>\n",
       "    <tr>\n",
       "      <th>2009</th>\n",
       "      <td>30.03</td>\n",
       "      <td>0.0</td>\n",
       "      <td>0.0</td>\n",
       "      <td>3.50</td>\n",
       "      <td>8176.8750</td>\n",
       "    </tr>\n",
       "    <tr>\n",
       "      <th>2010</th>\n",
       "      <td>22.64</td>\n",
       "      <td>0.0</td>\n",
       "      <td>0.0</td>\n",
       "      <td>3.74</td>\n",
       "      <td>8737.5750</td>\n",
       "    </tr>\n",
       "    <tr>\n",
       "      <th>2011</th>\n",
       "      <td>43.60</td>\n",
       "      <td>0.0</td>\n",
       "      <td>0.0</td>\n",
       "      <td>17.15</td>\n",
       "      <td>40066.6875</td>\n",
       "    </tr>\n",
       "    <tr>\n",
       "      <th>2012</th>\n",
       "      <td>23.65</td>\n",
       "      <td>0.0</td>\n",
       "      <td>0.0</td>\n",
       "      <td>4.13</td>\n",
       "      <td>9648.7125</td>\n",
       "    </tr>\n",
       "    <tr>\n",
       "      <th>2013</th>\n",
       "      <td>27.05</td>\n",
       "      <td>0.0</td>\n",
       "      <td>0.0</td>\n",
       "      <td>7.32</td>\n",
       "      <td>17101.3500</td>\n",
       "    </tr>\n",
       "    <tr>\n",
       "      <th>2014</th>\n",
       "      <td>27.11</td>\n",
       "      <td>0.0</td>\n",
       "      <td>0.0</td>\n",
       "      <td>6.76</td>\n",
       "      <td>15793.0500</td>\n",
       "    </tr>\n",
       "    <tr>\n",
       "      <th>2015</th>\n",
       "      <td>18.73</td>\n",
       "      <td>0.0</td>\n",
       "      <td>0.0</td>\n",
       "      <td>2.62</td>\n",
       "      <td>6120.9750</td>\n",
       "    </tr>\n",
       "    <tr>\n",
       "      <th>2016</th>\n",
       "      <td>19.36</td>\n",
       "      <td>0.0</td>\n",
       "      <td>0.0</td>\n",
       "      <td>0.82</td>\n",
       "      <td>1915.7250</td>\n",
       "    </tr>\n",
       "    <tr>\n",
       "      <th>2017</th>\n",
       "      <td>22.79</td>\n",
       "      <td>0.0</td>\n",
       "      <td>0.0</td>\n",
       "      <td>4.44</td>\n",
       "      <td>10372.9500</td>\n",
       "    </tr>\n",
       "    <tr>\n",
       "      <th>2018</th>\n",
       "      <td>32.36</td>\n",
       "      <td>0.0</td>\n",
       "      <td>0.0</td>\n",
       "      <td>4.74</td>\n",
       "      <td>11073.8250</td>\n",
       "    </tr>\n",
       "    <tr>\n",
       "      <th>2019</th>\n",
       "      <td>27.17</td>\n",
       "      <td>0.0</td>\n",
       "      <td>0.0</td>\n",
       "      <td>3.16</td>\n",
       "      <td>7382.5500</td>\n",
       "    </tr>\n",
       "    <tr>\n",
       "      <th>2020</th>\n",
       "      <td>23.23</td>\n",
       "      <td>0.0</td>\n",
       "      <td>0.0</td>\n",
       "      <td>3.42</td>\n",
       "      <td>7989.9750</td>\n",
       "    </tr>\n",
       "  </tbody>\n",
       "</table>\n",
       "</div>"
      ],
      "text/plain": [
       "       PRCP  SNOW  SNWD  NET_PRCP_in         GAL\n",
       "DATE                                            \n",
       "2000  26.69   0.0   0.0         5.35  12498.9375\n",
       "2001  17.88   0.0   0.0         2.23   5209.8375\n",
       "2002  28.00   0.0   0.0         7.06  16493.9250\n",
       "2003  31.08   0.0   0.0         4.31  10069.2375\n",
       "2004  32.91   0.0   0.0         9.64  22521.4500\n",
       "2005  27.99   0.0   0.0        11.89  27778.0125\n",
       "2006  35.87   0.0   0.0         8.24  19250.7000\n",
       "2007  28.76   0.0   0.0         8.23  19227.3375\n",
       "2008  26.12   0.0   0.0         6.42  14998.7250\n",
       "2009  30.03   0.0   0.0         3.50   8176.8750\n",
       "2010  22.64   0.0   0.0         3.74   8737.5750\n",
       "2011  43.60   0.0   0.0        17.15  40066.6875\n",
       "2012  23.65   0.0   0.0         4.13   9648.7125\n",
       "2013  27.05   0.0   0.0         7.32  17101.3500\n",
       "2014  27.11   0.0   0.0         6.76  15793.0500\n",
       "2015  18.73   0.0   0.0         2.62   6120.9750\n",
       "2016  19.36   0.0   0.0         0.82   1915.7250\n",
       "2017  22.79   0.0   0.0         4.44  10372.9500\n",
       "2018  32.36   0.0   0.0         4.74  11073.8250\n",
       "2019  27.17   0.0   0.0         3.16   7382.5500\n",
       "2020  23.23   0.0   0.0         3.42   7989.9750"
      ]
     },
     "execution_count": 14,
     "metadata": {},
     "output_type": "execute_result"
    }
   ],
   "source": [
    "gal=[]\n",
    "for a in missedrain['NET_PRCP_in']:\n",
    "    gal.append(a*green_roof_area*.623*rainwater_harvest_efficiency)\n",
    "missedrain['GAL']=gal\n",
    "missedrain"
   ]
  },
  {
   "cell_type": "code",
   "execution_count": 15,
   "metadata": {},
   "outputs": [
    {
     "name": "stdout",
     "output_type": "stream",
     "text": [
      "Average amount of rainfall missed by green roof = 13925.16 gallons per year\n"
     ]
    },
    {
     "data": {
      "text/plain": [
       "<matplotlib.legend.Legend at 0x7fe1ceb94880>"
      ]
     },
     "execution_count": 15,
     "metadata": {},
     "output_type": "execute_result"
    },
    {
     "data": {
      "image/png": "[encoded data removed]",
      "text/plain": [
       "<Figure size 648x432 with 1 Axes>"
      ]
     },
     "metadata": {
      "needs_background": "light"
     },
     "output_type": "display_data"
    }
   ],
   "source": [
    "avg=missedrain.GAL.mean()\n",
    "print ('Average amount of rainfall missed by green roof = {:.2f} gallons per year'.format(avg))\n",
    "fig,ax=plt.subplots()\n",
    "fig.set_size_inches(9,6)\n",
    "ax.bar(missedrain.index,missedrain.GAL)\n",
    "ax.set_ylabel('Gallons of Rainfall',fontsize=13)\n",
    "ax.set_xlabel('Year',fontsize=13)\n",
    "ax.set_title('Annual Rainwater Capture Yield Assuming Green Roof of {} ft$^2$ and {:.0f}% Efficiency'.format(green_roof_area,rainwater_harvest_efficiency*100),fontsize=14)\n",
    "ax.axhline(y=avg,color='g',linestyle='--',linewidth=1.5,label='Average = {:.2f} gallons/year'.format(avg))\n",
    "ax.legend(loc=0,fontsize=10,frameon=False)\n",
    "fig.savefig('Rainwater_Capture_Yield.pdf')"
   ]
  },
  {
   "cell_type": "markdown",
   "metadata": {},
   "source": [
    "## How big should the tank be?\n",
    "### For this, we are going to look at the average amount of rainfall we could capture each month"
   ]
  },
  {
   "cell_type": "code",
   "execution_count": 16,
   "metadata": {},
   "outputs": [
    {
     "data": {
      "text/html": [
       "<div>\n",
       "<style scoped>\n",
       "    .dataframe tbody tr th:only-of-type {\n",
       "        vertical-align: middle;\n",
       "    }\n",
       "\n",
       "    .dataframe tbody tr th {\n",
       "        vertical-align: top;\n",
       "    }\n",
       "\n",
       "    .dataframe thead th {\n",
       "        text-align: right;\n",
       "    }\n",
       "</style>\n",
       "<table border=\"1\" class=\"dataframe\">\n",
       "  <thead>\n",
       "    <tr style=\"text-align: right;\">\n",
       "      <th></th>\n",
       "      <th></th>\n",
       "      <th>PRCP</th>\n",
       "      <th>SNOW</th>\n",
       "      <th>SNWD</th>\n",
       "      <th>NET_PRCP_in</th>\n",
       "      <th>GAL</th>\n",
       "    </tr>\n",
       "    <tr>\n",
       "      <th>DATE</th>\n",
       "      <th>DATE</th>\n",
       "      <th></th>\n",
       "      <th></th>\n",
       "      <th></th>\n",
       "      <th></th>\n",
       "      <th></th>\n",
       "    </tr>\n",
       "  </thead>\n",
       "  <tbody>\n",
       "    <tr>\n",
       "      <th rowspan=\"5\" valign=\"top\">2000</th>\n",
       "      <th>4</th>\n",
       "      <td>0.20</td>\n",
       "      <td>0.0</td>\n",
       "      <td>0.0</td>\n",
       "      <td>0.00</td>\n",
       "      <td>0.0000</td>\n",
       "    </tr>\n",
       "    <tr>\n",
       "      <th>5</th>\n",
       "      <td>4.50</td>\n",
       "      <td>0.0</td>\n",
       "      <td>0.0</td>\n",
       "      <td>0.07</td>\n",
       "      <td>163.5375</td>\n",
       "    </tr>\n",
       "    <tr>\n",
       "      <th>6</th>\n",
       "      <td>4.87</td>\n",
       "      <td>0.0</td>\n",
       "      <td>0.0</td>\n",
       "      <td>1.62</td>\n",
       "      <td>3784.7250</td>\n",
       "    </tr>\n",
       "    <tr>\n",
       "      <th>7</th>\n",
       "      <td>7.28</td>\n",
       "      <td>0.0</td>\n",
       "      <td>0.0</td>\n",
       "      <td>2.76</td>\n",
       "      <td>6448.0500</td>\n",
       "    </tr>\n",
       "    <tr>\n",
       "      <th>8</th>\n",
       "      <td>3.82</td>\n",
       "      <td>0.0</td>\n",
       "      <td>0.0</td>\n",
       "      <td>0.00</td>\n",
       "      <td>0.0000</td>\n",
       "    </tr>\n",
       "    <tr>\n",
       "      <th>...</th>\n",
       "      <th>...</th>\n",
       "      <td>...</td>\n",
       "      <td>...</td>\n",
       "      <td>...</td>\n",
       "      <td>...</td>\n",
       "      <td>...</td>\n",
       "    </tr>\n",
       "    <tr>\n",
       "      <th rowspan=\"5\" valign=\"top\">2020</th>\n",
       "      <th>6</th>\n",
       "      <td>1.76</td>\n",
       "      <td>0.0</td>\n",
       "      <td>0.0</td>\n",
       "      <td>0.00</td>\n",
       "      <td>0.0000</td>\n",
       "    </tr>\n",
       "    <tr>\n",
       "      <th>7</th>\n",
       "      <td>6.58</td>\n",
       "      <td>0.0</td>\n",
       "      <td>0.0</td>\n",
       "      <td>1.96</td>\n",
       "      <td>4579.0500</td>\n",
       "    </tr>\n",
       "    <tr>\n",
       "      <th>8</th>\n",
       "      <td>5.03</td>\n",
       "      <td>0.0</td>\n",
       "      <td>0.0</td>\n",
       "      <td>0.76</td>\n",
       "      <td>1775.5500</td>\n",
       "    </tr>\n",
       "    <tr>\n",
       "      <th>9</th>\n",
       "      <td>3.94</td>\n",
       "      <td>0.0</td>\n",
       "      <td>0.0</td>\n",
       "      <td>0.34</td>\n",
       "      <td>794.3250</td>\n",
       "    </tr>\n",
       "    <tr>\n",
       "      <th>10</th>\n",
       "      <td>2.72</td>\n",
       "      <td>0.0</td>\n",
       "      <td>0.0</td>\n",
       "      <td>0.36</td>\n",
       "      <td>841.0500</td>\n",
       "    </tr>\n",
       "  </tbody>\n",
       "</table>\n",
       "<p>147 rows × 5 columns</p>\n",
       "</div>"
      ],
      "text/plain": [
       "           PRCP  SNOW  SNWD  NET_PRCP_in        GAL\n",
       "DATE DATE                                          \n",
       "2000 4     0.20   0.0   0.0         0.00     0.0000\n",
       "     5     4.50   0.0   0.0         0.07   163.5375\n",
       "     6     4.87   0.0   0.0         1.62  3784.7250\n",
       "     7     7.28   0.0   0.0         2.76  6448.0500\n",
       "     8     3.82   0.0   0.0         0.00     0.0000\n",
       "...         ...   ...   ...          ...        ...\n",
       "2020 6     1.76   0.0   0.0         0.00     0.0000\n",
       "     7     6.58   0.0   0.0         1.96  4579.0500\n",
       "     8     5.03   0.0   0.0         0.76  1775.5500\n",
       "     9     3.94   0.0   0.0         0.34   794.3250\n",
       "     10    2.72   0.0   0.0         0.36   841.0500\n",
       "\n",
       "[147 rows x 5 columns]"
      ]
     },
     "execution_count": 16,
     "metadata": {},
     "output_type": "execute_result"
    }
   ],
   "source": [
    "each_month_capture=nofrost.groupby([(nofrost.index.year),(nofrost.index.month)]).sum()\n",
    "gal2=[]\n",
    "for a in each_month_capture['NET_PRCP_in']:\n",
    "    gal2.append(a*green_roof_area*.623*rainwater_harvest_efficiency)\n",
    "each_month_capture['GAL']=gal2\n",
    "each_month_capture"
   ]
  },
  {
   "cell_type": "code",
   "execution_count": 17,
   "metadata": {},
   "outputs": [
    {
     "name": "stdout",
     "output_type": "stream",
     "text": [
      "The average monthly rainfall capture capacity\n",
      "of a roof of 7500 square feet at 50% efficiency\n",
      "(assuming a green roof captures rainfall events less than 1 in)\n",
      "is about 1989.3 gallons\n"
     ]
    }
   ],
   "source": [
    "print('The average monthly rainfall capture capacity\\nof a roof of {} square feet at {:.0f}% efficiency\\n\\\n",
    "(assuming a green roof captures rainfall events less than {} in)\\nis about {:.1f} gallons'\\\n",
    "     .format(green_roof_area,rainwater_harvest_efficiency*100,green_roof_capacity,each_month_capture.GAL.mean()))"
   ]
  },
  {
   "cell_type": "code",
   "execution_count": null,
   "metadata": {},
   "outputs": [],
   "source": []
  }
 ],
 "metadata": {
  "kernelspec": {
   "display_name": "Python 3",
   "language": "python",
   "name": "python3"
  },
  "language_info": {
   "codemirror_mode": {
    "name": "ipython",
    "version": 3
   },
   "file_extension": ".py",
   "mimetype": "text/x-python",
   "name": "python",
   "nbconvert_exporter": "python",
   "pygments_lexer": "ipython3",
   "version": "3.8.3"
  }
 },
 "nbformat": 4,
 "nbformat_minor": 4
}
